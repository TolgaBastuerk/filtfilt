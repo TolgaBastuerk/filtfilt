{
 "cells": [
  {
   "cell_type": "markdown",
   "metadata": {},
   "source": [
    "# Test of \"filter\" and \"filtfilt\" Functions from Ardour"
   ]
  },
  {
   "cell_type": "markdown",
   "metadata": {},
   "source": [
    "resource: https://github.com/djpohly/ardour/tree/master/libs/qm-dsp/dsp/signalconditioning"
   ]
  },
  {
   "cell_type": "markdown",
   "metadata": {},
   "source": [
    "### Import Packages and load Data Set"
   ]
  },
  {
   "cell_type": "code",
   "execution_count": 15,
   "metadata": {},
   "outputs": [],
   "source": [
    "import os\n",
    "import json\n",
    "import numpy as np\n",
    "import pandas as pd\n",
    "import matplotlib.dates as md\n",
    "import matplotlib.pyplot as plt\n",
    "from scipy import signal"
   ]
  },
  {
   "cell_type": "code",
   "execution_count": 16,
   "metadata": {},
   "outputs": [
    {
     "data": {
      "text/html": [
       "<div>\n",
       "<style scoped>\n",
       "    .dataframe tbody tr th:only-of-type {\n",
       "        vertical-align: middle;\n",
       "    }\n",
       "\n",
       "    .dataframe tbody tr th {\n",
       "        vertical-align: top;\n",
       "    }\n",
       "\n",
       "    .dataframe thead th {\n",
       "        text-align: right;\n",
       "    }\n",
       "</style>\n",
       "<table border=\"1\" class=\"dataframe\">\n",
       "  <thead>\n",
       "    <tr style=\"text-align: right;\">\n",
       "      <th></th>\n",
       "      <th>wform</th>\n",
       "      <th>noise</th>\n",
       "      <th>wform_noisy</th>\n",
       "      <th>y_filtfilt</th>\n",
       "      <th>y_filter</th>\n",
       "      <th>filtACoeffs</th>\n",
       "      <th>filtBCoeffs</th>\n",
       "    </tr>\n",
       "  </thead>\n",
       "  <tbody>\n",
       "    <tr>\n",
       "      <th>0</th>\n",
       "      <td>0.000000</td>\n",
       "      <td>0.053767</td>\n",
       "      <td>0.053767</td>\n",
       "      <td>0.053767</td>\n",
       "      <td>0.005377</td>\n",
       "      <td>1.0</td>\n",
       "      <td>0.1</td>\n",
       "    </tr>\n",
       "    <tr>\n",
       "      <th>1</th>\n",
       "      <td>0.000273</td>\n",
       "      <td>0.183389</td>\n",
       "      <td>0.183662</td>\n",
       "      <td>0.053885</td>\n",
       "      <td>0.023743</td>\n",
       "      <td>0.0</td>\n",
       "      <td>0.1</td>\n",
       "    </tr>\n",
       "    <tr>\n",
       "      <th>2</th>\n",
       "      <td>0.000547</td>\n",
       "      <td>-0.225885</td>\n",
       "      <td>-0.225338</td>\n",
       "      <td>0.051676</td>\n",
       "      <td>0.001209</td>\n",
       "      <td>0.0</td>\n",
       "      <td>0.1</td>\n",
       "    </tr>\n",
       "    <tr>\n",
       "      <th>3</th>\n",
       "      <td>0.000820</td>\n",
       "      <td>0.086217</td>\n",
       "      <td>0.087037</td>\n",
       "      <td>0.052207</td>\n",
       "      <td>0.009913</td>\n",
       "      <td>0.0</td>\n",
       "      <td>0.1</td>\n",
       "    </tr>\n",
       "    <tr>\n",
       "      <th>4</th>\n",
       "      <td>0.001093</td>\n",
       "      <td>0.031877</td>\n",
       "      <td>0.032970</td>\n",
       "      <td>0.051684</td>\n",
       "      <td>0.013210</td>\n",
       "      <td>0.0</td>\n",
       "      <td>0.1</td>\n",
       "    </tr>\n",
       "  </tbody>\n",
       "</table>\n",
       "</div>"
      ],
      "text/plain": [
       "      wform     noise  wform_noisy  y_filtfilt  y_filter  filtACoeffs  \\\n",
       "0  0.000000  0.053767     0.053767    0.053767  0.005377          1.0   \n",
       "1  0.000273  0.183389     0.183662    0.053885  0.023743          0.0   \n",
       "2  0.000547 -0.225885    -0.225338    0.051676  0.001209          0.0   \n",
       "3  0.000820  0.086217     0.087037    0.052207  0.009913          0.0   \n",
       "4  0.001093  0.031877     0.032970    0.051684  0.013210          0.0   \n",
       "\n",
       "   filtBCoeffs  \n",
       "0          0.1  \n",
       "1          0.1  \n",
       "2          0.1  \n",
       "3          0.1  \n",
       "4          0.1  "
      ]
     },
     "execution_count": 16,
     "metadata": {},
     "output_type": "execute_result"
    }
   ],
   "source": [
    "data_path = os.path.join( os.getcwd(), 'data', 'MATLAB_ECG_filtfilt_data.CSV')\n",
    "df_matlab_results = pd.read_csv(data_path, sep=';')\n",
    "df_matlab_results.head()"
   ]
  },
  {
   "cell_type": "code",
   "execution_count": 31,
   "metadata": {},
   "outputs": [],
   "source": [
    "df_index = df_matlab_results.index\n",
    "df_wform = df_matlab_results.wform.values.flatten()                 # base signal: ECG-Waveform without noise\n",
    "df_wform_noisy = df_matlab_results.wform_noisy.values.flatten()     # input signal for analysis: ECG-Waveform with noise\n",
    "df_matlab_filtfilt = df_matlab_results.y_filtfilt.values.flatten()  # MATLAB \"filtfilt\" function results for input signal\n",
    "df_matlab_filter = df_matlab_results.y_filter.values.flatten()      # MATLAB \"filter\" function results for input signal"
   ]
  },
  {
   "cell_type": "code",
   "execution_count": 30,
   "metadata": {},
   "outputs": [
    {
     "ename": "AttributeError",
     "evalue": "'numpy.ndarray' object has no attribute 'dropna'",
     "output_type": "error",
     "traceback": [
      "\u001b[1;31m---------------------------------------------------------------------------\u001b[0m",
      "\u001b[1;31mAttributeError\u001b[0m                            Traceback (most recent call last)",
      "\u001b[1;32m<ipython-input-30-16c6ede30a62>\u001b[0m in \u001b[0;36m<module>\u001b[1;34m\u001b[0m\n\u001b[1;32m----> 1\u001b[1;33m \u001b[0mdf_num_filt\u001b[0m \u001b[1;33m=\u001b[0m \u001b[0mdf_matlab_results\u001b[0m\u001b[1;33m.\u001b[0m\u001b[0mfiltBCoeffs\u001b[0m\u001b[1;33m.\u001b[0m\u001b[0mvalues\u001b[0m\u001b[1;33m.\u001b[0m\u001b[0mdropna\u001b[0m  \u001b[1;31m# numerator (B) of used filter (butterworth filter, order: 12)\u001b[0m\u001b[1;33m\u001b[0m\u001b[1;33m\u001b[0m\u001b[0m\n\u001b[0m\u001b[0;32m      2\u001b[0m \u001b[0mdf_den_filt\u001b[0m \u001b[1;33m=\u001b[0m \u001b[0mdf_matlab_results\u001b[0m\u001b[1;33m.\u001b[0m\u001b[0mfiltACoeffs\u001b[0m\u001b[1;33m.\u001b[0m\u001b[0mvalues\u001b[0m\u001b[1;33m.\u001b[0m\u001b[0mflatten\u001b[0m\u001b[1;33m(\u001b[0m\u001b[1;33m)\u001b[0m  \u001b[1;31m# denominator (A) of used filter (butterworth filter, order: 12)\u001b[0m\u001b[1;33m\u001b[0m\u001b[1;33m\u001b[0m\u001b[0m\n\u001b[0;32m      3\u001b[0m \u001b[1;33m\u001b[0m\u001b[0m\n\u001b[0;32m      4\u001b[0m \u001b[0mprint\u001b[0m\u001b[1;33m(\u001b[0m\u001b[0mdf_num_filt\u001b[0m\u001b[1;33m)\u001b[0m\u001b[1;33m\u001b[0m\u001b[1;33m\u001b[0m\u001b[0m\n",
      "\u001b[1;31mAttributeError\u001b[0m: 'numpy.ndarray' object has no attribute 'dropna'"
     ]
    }
   ],
   "source": []
  },
  {
   "cell_type": "code",
   "execution_count": null,
   "metadata": {},
   "outputs": [],
   "source": [
    "# data path for matlab data\n",
    "data_path = os.path.join( os.getcwd(), 'data', 'filtfilt_ECG_matlab_data.CSV')\n",
    "filter_path = os.path.join( os.getcwd(), 'data', 'matlab_ECG_filter.CSV')\n",
    "\n",
    "# load matlab results as pandas Dataframe\n",
    "df_matlab_results = pd.read_csv(data_path, sep=';')\n",
    "df_filter = pd.read_csv(filter_path, sep=';')"
   ]
  },
  {
   "cell_type": "code",
   "execution_count": null,
   "metadata": {},
   "outputs": [],
   "source": [
    "df_index = df_matlab_results.index.values.flatten()                 # index of dataframe entries (0 - 500)\n",
    "df_wform = df_matlab_results.wform.values.flatten()                 # base signal: ECG-Waveform without noise\n",
    "df_wform_noisy = df_matlab_results.wform_noisy.values.flatten()     # input signal for analysis: ECG-Waveform with noise\n",
    "df_matlab_filtfilt = df_matlab_results.y_filtfilt.values.flatten()  # MATLAB \"filtfilt\" function results for input signal\n",
    "df_matlab_filter = df_matlab_results.y_filter.values.flatten()      # MATLAB \"filter\" function results for input signal\n",
    "\n",
    "df_num_filt = df_filter.num_filt.values.flatten()  # numerator (B) of used filter (butterworth filter, order: 12)\n",
    "df_den_filt = df_filter.den_filt.values.flatten()  # denominator (A) of used filter (butterworth filter, order: 12)"
   ]
  },
  {
   "cell_type": "code",
   "execution_count": null,
   "metadata": {},
   "outputs": [],
   "source": [
    "filt_ord = 9\n",
    "df_den_filt = [1, 0, 0, 0, 0, 0, 0, 0, 0, 0]\n",
    "df_num_filt = [0.1, 0.1, 0.1, 0.1, 0.1, 0.1, 0.1, 0.1, 0.1, 0.1]"
   ]
  },
  {
   "cell_type": "markdown",
   "metadata": {},
   "source": [
    "### Plot used Data "
   ]
  },
  {
   "cell_type": "code",
   "execution_count": null,
   "metadata": {},
   "outputs": [],
   "source": [
    "fig, (ax0, ax1) = plt.subplots(2, figsize=(20,12))\n",
    "\n",
    "ax0.plot(df_index, df_wform, color='blue', label ='orginal signal')\n",
    "ax1.plot(df_index, df_wform_noisy, color='red', label ='noisy signal')\n",
    "\n",
    "ax0.set_title('Original Signal')\n",
    "ax0.set_xlabel('Number of Data Points')\n",
    "ax0.set_ylabel('Values')\n",
    "ax0.grid(b=True, which='major', color='#666666', linestyle='-')\n",
    "ax0.minorticks_on()\n",
    "ax0.grid(b=True, which='minor', color='#999999', linestyle='-', alpha=0.2)\n",
    "\n",
    "ax1.set_title('Noisy Signal')\n",
    "ax1.set_xlabel('Number of Data Points')\n",
    "ax1.set_ylabel('Values')\n",
    "ax1.grid(b=True, which='major', color='#666666', linestyle='-')\n",
    "ax1.minorticks_on()\n",
    "ax1.grid(b=True, which='minor', color='#999999', linestyle='-', alpha=0.2)\n",
    "\n",
    "plt.show();"
   ]
  },
  {
   "cell_type": "markdown",
   "metadata": {},
   "source": [
    "## Ardour \"filter\" Function (conventional filter with phase-distortion)"
   ]
  },
  {
   "cell_type": "code",
   "execution_count": null,
   "metadata": {},
   "outputs": [],
   "source": [
    "def filterArdour(filt_ord, filt_ACoeffs, filt_BCoeffs, input_signal, input_signal_len):\n",
    "    u = input_signal                # input signal\n",
    "    length = input_signal_len       # length of raw input signal (caution: length without edge reflections!, see function: filtfilt)\n",
    "    y = np.zeros((length,))         # output signal; initialize with zeros\n",
    "    \n",
    "    inBuffer = np.zeros((filt_ord+1,))  # buffer for input signal with window length of (filter_ord+1) ; initialize with zeros\n",
    "    outBuffer = np.zeros((filt_ord+1,)) # buffer for output signal with window length of (filter_ord+1) ; initialize with zeros\n",
    "    \n",
    "    for j in range(0, length):\n",
    "\n",
    "        # move input buffer and sample value of input signal (required for feedforward path of IIR-Filter)\n",
    "        for i in range(0, filt_ord):\n",
    "            inBuffer[filt_ord-i] = inBuffer[filt_ord-i-1]\n",
    "        inBuffer[0] = u[j]   # sample input signal of current time step\n",
    "\n",
    "        # reset output value for current time step\n",
    "        y_temp = 0\n",
    "\n",
    "        # calculate feedforward path (B of IIR-Filter)\n",
    "        for i in range(0, filt_ord):\n",
    "            y_temp = y_temp + filt_BCoeffs[i] * inBuffer[i]\n",
    "\n",
    "        # calculate feedback path (A of IIR-Filter)\n",
    "        for i in range(0, filt_ord):\n",
    "            y_temp = y_temp - filt_ACoeffs[i+1] * outBuffer[i]\n",
    "\n",
    "        # write calculated filter output of current time step into output array\n",
    "        y[j] = y_temp\n",
    "\n",
    "        # move output buffer and sample value of output signal (required for feedback path of IIR-Filter)\n",
    "        for i in range(0, filt_ord-1):\n",
    "            outBuffer[filt_ord-i-1] = outBuffer[filt_ord-i-2]\n",
    "        outBuffer[0] = y_temp\n",
    "    \n",
    "    return y;\n"
   ]
  },
  {
   "cell_type": "markdown",
   "metadata": {},
   "source": [
    "### Test of \"filter\" Function"
   ]
  },
  {
   "cell_type": "code",
   "execution_count": null,
   "metadata": {},
   "outputs": [],
   "source": [
    "y_filterArdour = filterArdour(\n",
    "    filt_ord = filt_ord, \n",
    "    filt_ACoeffs = df_den_filt, \n",
    "    filt_BCoeffs = df_num_filt, \n",
    "    input_signal = df_wform_noisy, \n",
    "    input_signal_len = 500)\n",
    "\n",
    "# calculate error between MATLAB filter function and Ardour filter function\n",
    "filter_error = np.abs(df_matlab_filter - y_filterArdour)"
   ]
  },
  {
   "cell_type": "code",
   "execution_count": null,
   "metadata": {},
   "outputs": [],
   "source": [
    "# plot comparison and error\n",
    "fig, (ax0, ax1) = plt.subplots(2, figsize=(20,16))\n",
    "\n",
    "ax0.plot(df_matlab_results.index, df_matlab_filter, color='black', label ='MATLAB filter')\n",
    "ax0.plot(df_matlab_results.index, y_filterArdour, color='red', label ='Ardour filter')\n",
    "ax1.plot(df_matlab_results.index, filter_error, color='black', label ='Filter Error')\n",
    "\n",
    "ax0.set_title('Filter Output Comparison')\n",
    "ax0.set_xlabel('Number of Data Points')\n",
    "ax0.set_ylabel('Values')\n",
    "ax0.legend()\n",
    "ax0.grid(b=True, which='major', color='#666666', linestyle='-')\n",
    "ax0.minorticks_on()\n",
    "ax0.grid(b=True, which='minor', color='#999999', linestyle='-', alpha=0.2)\n",
    "\n",
    "ax1.set_title('Absolute Filter Error: MATLAB_Filter_Output - Ardour_Filter_Output')\n",
    "ax1.set_xlabel('Number of Data Points')\n",
    "ax1.set_ylabel('Values')\n",
    "ax1.grid(b=True, which='major', color='#666666', linestyle='-')\n",
    "ax1.minorticks_on()\n",
    "ax1.grid(b=True, which='minor', color='#999999', linestyle='-', alpha=0.2)"
   ]
  },
  {
   "cell_type": "markdown",
   "metadata": {},
   "source": [
    "## Ardour \"filtfilt\" Function (conventional filter with phase-distortion)"
   ]
  },
  {
   "cell_type": "code",
   "execution_count": null,
   "metadata": {},
   "outputs": [],
   "source": [
    "def filtfiltArdour(filt_ACoeffs, filt_BCoeffs, input_signal, input_signal_len):\n",
    "    # ~~~~~~~~~~~~~~~~~~~~~~~~~~~~~~~~~~~~~~~~~~~~~~~~~~~~~~~~~~~~~~~~~\n",
    "    # Variable initilization and preprocessing\n",
    "    # ~~~~~~~~~~~~~~~~~~~~~~~~~~~~~~~~~~~~~~~~~~~~~~~~~~~~~~~~~~~~~~~~~\n",
    "    u = input_signal            # input signal\n",
    "    length = input_signal_len   # length of raw input signal (caution: length without edge reflections!, see function: filtfilt)\n",
    "    y = np.zeros((length,))     # output signal; initialize with zeros\n",
    "    \n",
    "    filtACoeffs = filt_ACoeffs  # filter numerator coefficients\n",
    "    filtBCoeffs = filt_BCoeffs  # filter denominator coefficients\n",
    "\n",
    "    na = len(filtACoeffs)       # number of filter feedback coefficients (A)\n",
    "    nb = len(filtBCoeffs)       # number of filter feedforward coefficients (B)\n",
    "    nFilt = max(na,nb)          # max. number of given filter coefficients \n",
    "    filtOrd = nFilt - 1         # filter order\n",
    "    nFact = 3 * ( nFilt - 1)    # length of edge transients ( 3 times filter order)\n",
    "    nExt = length + 2 * nFact   # padding before and after signal\n",
    "    \n",
    "    nfilt = max(na,nb)          # \n",
    "    nfact = max(1,3*(nfilt-1))  # length of edge transients\n",
    "    \n",
    "    sample0 = 2*u[0]            # used for edge transfer reflection\n",
    "    sampleN = 2*u[length-1]     # used for edge transfer reflection\n",
    "    index = 0;                  # index variable for loops\n",
    "    filtScratchIn = np.zeros((nExt,))  # function intern input sequence \n",
    "    filtScratchOut = np.zeros((nExt,)) # function intern output sequence\n",
    "    \n",
    "    # zero pad shorter coeff arrays as needed\n",
    "    if (nb < nFilt):\n",
    "        filtBCoeffs = np.zeros((nFilt,))\n",
    "    elif (na < nFilt):\n",
    "        filtACoeffs = np.zeros((nFilt,))\n",
    "    \n",
    "    # ~~~~~~~~~~~~~~~~~~~~~~~~~~~~~~~~~~~~~~~~~~~~~~~~~~~~~~~~~~~~~~~~~\n",
    "    # Edge Transfer Reflection\n",
    "    # ~~~~~~~~~~~~~~~~~~~~~~~~~~~~~~~~~~~~~~~~~~~~~~~~~~~~~~~~~~~~~~~~~\n",
    "    #   starting edge transfer reflection\n",
    "    for i in range(nFact, 0, -1):\n",
    "        filtScratchIn[index] = sample0 - u[i]\n",
    "        index = index + 1\n",
    "        \n",
    "    #   ending edge transfer reflection\n",
    "    index = 0;\n",
    "    for i in range(0, nFact):\n",
    "        filtScratchIn[ (nExt - nFact) + index ] = sampleN - u[ (length - 2) - i ]\n",
    "        index = index + 1\n",
    "        \n",
    "    # (normal/unedited) raw signal inbetween edge transfer padding\n",
    "    for i in range(0, length):\n",
    "        filtScratchIn[i + nFact] = u[i]\n",
    "        \n",
    "    # ~~~~~~~~~~~~~~~~~~~~~~~~~~~~~~~~~~~~~~~~~~~~~~~~~~~~~~~~~~~~~~~~~\n",
    "    # 1st filtering (forward filtering)\n",
    "    # ~~~~~~~~~~~~~~~~~~~~~~~~~~~~~~~~~~~~~~~~~~~~~~~~~~~~~~~~~~~~~~~~~\n",
    "    y_filtfiltArdour = filterArdour(filt_ord = filtOrd, \n",
    "                            filt_ACoeffs = filtACoeffs, \n",
    "                            filt_BCoeffs = filtBCoeffs, \n",
    "                            input_signal = filtScratchIn, \n",
    "                            input_signal_len = nExt)    \n",
    "    \n",
    "    # ~~~~~~~~~~~~~~~~~~~~~~~~~~~~~~~~~~~~~~~~~~~~~~~~~~~~~~~~~~~~~~~~~\n",
    "    # 2nd filtering (backward filtering)\n",
    "    # ~~~~~~~~~~~~~~~~~~~~~~~~~~~~~~~~~~~~~~~~~~~~~~~~~~~~~~~~~~~~~~~~~\n",
    "    #   reverse the filtered signal:\n",
    "    for i in range(0, nExt):\n",
    "        filtScratchIn[i] = y_filtfiltArdour[ nExt -i -1 ]\n",
    "        \n",
    "    #   filter the reversed signal again (backward filtering)\n",
    "    y_filtfiltArdour = filterArdour(filt_ord = filtOrd, \n",
    "                        filt_ACoeffs = filtACoeffs, \n",
    "                        filt_BCoeffs = filtBCoeffs, \n",
    "                        input_signal = filtScratchIn, \n",
    "                        input_signal_len = nExt)\n",
    "    \n",
    "    #   reverse the reversed signal again to get the normal signal\n",
    "    for i in range(0, nExt):\n",
    "        filtScratchIn[i] = y_filtfiltArdour[ nExt -i -1 ]\n",
    "        \n",
    "    # ~~~~~~~~~~~~~~~~~~~~~~~~~~~~~~~~~~~~~~~~~~~~~~~~~~~~~~~~~~~~~~~~~\n",
    "    # Remove Edge Transients padding for Output Signal\n",
    "    # ~~~~~~~~~~~~~~~~~~~~~~~~~~~~~~~~~~~~~~~~~~~~~~~~~~~~~~~~~~~~~~~~~\n",
    "    for i in range(0, length):\n",
    "        y[i] = filtScratchIn[i + nFact]\n",
    "        \n",
    "    return y"
   ]
  },
  {
   "cell_type": "code",
   "execution_count": null,
   "metadata": {},
   "outputs": [],
   "source": [
    "y_filtfiltArdour = filtfiltArdour(\n",
    "                            filt_ACoeffs = df_den_filt, \n",
    "                            filt_BCoeffs = df_num_filt, \n",
    "                            input_signal = df_wform_noisy, \n",
    "                            input_signal_len = 500)  \n",
    "\n",
    "# calculate error between MATLAB filtfilt function and Ardour filtfilt function\n",
    "filtfilt_error = np.abs(df_matlab_filtfilt - y_filtfiltArdour)"
   ]
  },
  {
   "cell_type": "code",
   "execution_count": null,
   "metadata": {},
   "outputs": [],
   "source": [
    "# plot comparison and error\n",
    "fig, (ax0, ax1) = plt.subplots(2, figsize=(20,16))\n",
    "\n",
    "ax0.plot(df_matlab_results.index, df_matlab_filtfilt, color='black', label ='MATLAB filtfilt')\n",
    "ax0.plot(df_matlab_results.index, y_filtfiltArdour, color='red', label ='Ardour filtfilt')\n",
    "ax1.plot(df_matlab_results.index, filtfilt_error, color='black', label ='filtfilt error')\n",
    "\n",
    "ax0.set_title('filtfilt Output Comparison')\n",
    "ax0.set_xlabel('Number of Data Points')\n",
    "ax0.set_ylabel('Values')\n",
    "ax0.legend()\n",
    "ax0.grid(b=True, which='major', color='#666666', linestyle='-')\n",
    "ax0.minorticks_on()\n",
    "ax0.grid(b=True, which='minor', color='#999999', linestyle='-', alpha=0.2)\n",
    "\n",
    "ax1.set_title('filtfilt Error: MATLAB_filtfilt_Output - Ardour_filtfilt_Output')\n",
    "ax1.set_xlabel('Number of Data Points')\n",
    "ax1.set_ylabel('Values')\n",
    "ax1.grid(b=True, which='major', color='#666666', linestyle='-')\n",
    "ax1.minorticks_on()\n",
    "ax1.grid(b=True, which='minor', color='#999999', linestyle='-', alpha=0.2)"
   ]
  },
  {
   "cell_type": "markdown",
   "metadata": {},
   "source": [
    "# Function Tests"
   ]
  },
  {
   "cell_type": "markdown",
   "metadata": {},
   "source": [
    "### isolated test of: Edge Transformation Reflection (used in filtfilt)"
   ]
  },
  {
   "cell_type": "code",
   "execution_count": null,
   "metadata": {},
   "outputs": [],
   "source": [
    "# variables\n",
    "u = df_wform_noisy           # input signal\n",
    "length = len(df_wform_noisy) # length of input signal\n",
    "y = np.zeros((length,))      # output signal\n",
    "\n",
    "filt_ord = 12               # filter order\n",
    "filt_ACoeffs = df_den_filt  # filter A coeffs\n",
    "filt_BCoeffs = df_num_filt  # filter B coeffs\n",
    "\n",
    "nFilt = filt_ord + 1\n",
    "nFact = 3 * ( nFilt - 1)    # 3 times the filter order for padding\n",
    "nExt = length + 2 * nFact   # length of padded signal (padding before and after raw signal: \"nFact + length + nFact\")\n",
    "\n",
    "filtScratchIn = np.zeros((nExt,))  # function intern input sequence \n",
    "filtScratchOut = np.zeros((nExt,)) # fuction intern output sequence\n",
    "\n",
    "# edge transformation reflection\n",
    "sample0 = 2 * u[0]          # two times the amplitude of first signal value \n",
    "sampleN = 2 * u[length-1]   # two times the amplitude of last signal value"
   ]
  },
  {
   "cell_type": "code",
   "execution_count": null,
   "metadata": {
    "scrolled": true
   },
   "outputs": [],
   "source": [
    "# Edge Transformation of start transient of signal\n",
    "# - index: from [0]  to  [3*filt_ord-1]\n",
    "index = 0;\n",
    "for i in range(nFact, 0, -1):\n",
    "    filtScratchIn[index] = sample0 - u[i]\n",
    "    \n",
    "    # print the calculation for control purposes\n",
    "    print('filtScratchIn[',index,'] = 2 * u[ 0 ] - u[',i,']')\n",
    "    index = index + 1   "
   ]
  },
  {
   "cell_type": "code",
   "execution_count": null,
   "metadata": {},
   "outputs": [],
   "source": [
    "# write raw signal between edge transformation areas\n",
    "# - index: from [3*filt_ord]  to  [inputSignalLength-1+3*filt_ord]\n",
    "for i in range(0, length):\n",
    "    filtScratchIn[i + nFact] = u[i]\n",
    "    print('filtScratchIn[',i + nFact,'] = u[',i,']')\n",
    "    "
   ]
  },
  {
   "cell_type": "code",
   "execution_count": null,
   "metadata": {
    "scrolled": true
   },
   "outputs": [],
   "source": [
    "# Edge Transformation of end transient of signal\n",
    "# - index: from [inputSignalLength+3*filt_ord]  to  [inputSignalLength-1 +2*(3*filt_ord)]\n",
    "index = 0;   \n",
    "for i in range(0, nFact):\n",
    "    filtScratchIn[ (nExt - nFact) + index ] = sampleN - u[ (length - 2) - i ]\n",
    "    print('filtScratchIn[',(nExt - nFact) + index ,'] = 2 * u[ 499 ] - u[',(length - 2) - i,']')\n",
    "    index = index + 1"
   ]
  },
  {
   "cell_type": "code",
   "execution_count": null,
   "metadata": {},
   "outputs": [],
   "source": [
    "# pad raw signal with zeros (needed for comparison plot)\n",
    "index_plot = np.zeros((nExt,))\n",
    "df_wform_noisy_comp =  np.zeros((nExt,))\n",
    "counter = 0\n",
    "\n",
    "for i in range(0, nExt):\n",
    "    index_plot[i] = i\n",
    "    \n",
    "for i in range(nFact,nFact+500):\n",
    "    df_wform_noisy_comp[i] = df_wform_noisy[counter]\n",
    "    counter = counter + 1"
   ]
  },
  {
   "cell_type": "code",
   "execution_count": null,
   "metadata": {},
   "outputs": [],
   "source": [
    "# plot comparison\n",
    "fig, ax0 = plt.subplots(1, figsize=(20,12))\n",
    "\n",
    "ax0.plot(index_plot, filtScratchIn, color='red', label ='filtScratchIn')\n",
    "ax0.plot(index_plot, df_wform_noisy_comp, color='black', label ='raw input signal with zero padding')\n",
    "ax0.vlines(x=nFact, ymin=min(filtScratchIn), ymax=max(filtScratchIn), color='black', linestyles='dashed')\n",
    "ax0.vlines(x=length+nFact, ymin=min(filtScratchIn), ymax=max(filtScratchIn), color='black', linestyles='dashed') \n",
    "\n",
    "ax0.set_title('filter comparison')\n",
    "ax0.set_xlabel('number of data points')\n",
    "ax0.set_ylabel('Values')\n",
    "ax0.legend()\n",
    "ax0.grid(b=True, which='major', color='#666666', linestyle='-')\n",
    "ax0.minorticks_on()\n",
    "ax0.grid(b=True, which='minor', color='#999999', linestyle='-', alpha=0.2)\n"
   ]
  },
  {
   "cell_type": "markdown",
   "metadata": {},
   "source": [
    "### isolated test of: Signal Reversion (used in filtfilt)"
   ]
  },
  {
   "cell_type": "code",
   "execution_count": null,
   "metadata": {},
   "outputs": [],
   "source": [
    "input_array = [0,1,2,3,4,5,6,7,8,9]\n",
    "input_array_rev = np.zeros((len(input_array),))\n",
    "\n",
    "for i in range(0, len(input_array)):\n",
    "    input_array_rev[i] = input_array[ len(input_array) -i -1 ]\n",
    "    \n",
    "print(input_array)\n",
    "print(input_array_rev)"
   ]
  },
  {
   "cell_type": "markdown",
   "metadata": {},
   "source": [
    "# Notes"
   ]
  },
  {
   "cell_type": "code",
   "execution_count": null,
   "metadata": {},
   "outputs": [],
   "source": [
    "na = len(df_den_filt)\n",
    "nb = len(df_den_filt)\n",
    "nfilt = max(na,nb)          # \n",
    "nfact = max(1,3*(nfilt-1))  # length of edge transients\n",
    "\n",
    "# zero pad shorter coeff arrays as needed\n",
    "if (nb < nfilt):\n",
    "    b = np.zeros((nfilt,))\n",
    "#    b = []\n",
    "#    for i in range(0, nb):\n",
    "#        b[i] = df_den_filt[i]\n",
    "#    for i in range(nb,nfilt):\n",
    "#        b[i] = 0\n",
    "elif (na < nfilt):\n",
    "    a = np.zeros((nfilt,))\n",
    "#    a = []\n",
    "#    for i in range(0, na):\n",
    "#        a[i] = df_num_filt[i]\n",
    "#    for i in range(nb,nfilt):\n",
    "#        a[i] = 0"
   ]
  },
  {
   "cell_type": "code",
   "execution_count": null,
   "metadata": {},
   "outputs": [],
   "source": []
  }
 ],
 "metadata": {
  "kernelspec": {
   "display_name": "Python 3",
   "language": "python",
   "name": "python3"
  },
  "language_info": {
   "codemirror_mode": {
    "name": "ipython",
    "version": 3
   },
   "file_extension": ".py",
   "mimetype": "text/x-python",
   "name": "python",
   "nbconvert_exporter": "python",
   "pygments_lexer": "ipython3",
   "version": "3.7.6"
  }
 },
 "nbformat": 4,
 "nbformat_minor": 4
}
